{
 "cells": [
  {
   "cell_type": "markdown",
   "metadata": {},
   "source": [
    "## Exploratory analysis"
   ]
  },
  {
   "cell_type": "code",
   "execution_count": null,
   "metadata": {},
   "outputs": [],
   "source": [
    "import pandas as pd\n",
    "\n",
    "targets = {\n",
    "        'htn_dx_ia':'Htndx',\n",
    "        'res_htn_dx_ia':'ResHtndx', \n",
    "        'htn_hypok_dx_ia':'HtnHypoKdx', \n",
    "        'HTN_heuristic':'HtnHeuri', \n",
    "        'res_HTN_heuristic':'ResHtnHeuri',\n",
    "        'hypoK_heuristic_v4':'HtnHypoKHeuri'\n",
    "        }\n",
    "\n",
    "targets_inv = { v:k for k,v in targets.items() }\n",
    "\n",
    "def analyze_dataset(target, fold, ds_number=0):\n",
    "    # Read the datasets\n",
    "    df_train = pd.read_csv(f'../data/Dataset{ds_number}/{target}/{target}{fold}Train.csv')\n",
    "    df_test = pd.read_csv(f'../data/Dataset{ds_number}/{target}/{target}{fold}Test.csv')\n",
    "    \n",
    "    # Calculate metrics for training data\n",
    "    train_samples = len(df_train)\n",
    "    train_positives = df_train[targets_inv[target]].sum()\n",
    "    train_prevalence = (train_positives / train_samples * 100)\n",
    "    \n",
    "    # Calculate metrics for test data\n",
    "    test_samples = len(df_test)\n",
    "    test_positives = df_test[targets_inv[target]].sum()\n",
    "    test_prevalence = (test_positives / test_samples * 100)\n",
    "    \n",
    "    return {\n",
    "        'target': target,\n",
    "        'fold': fold,\n",
    "        'train_samples': train_samples,\n",
    "        'train_positives': train_positives,\n",
    "        'train_prevalence': train_prevalence,\n",
    "        'test_samples': test_samples,\n",
    "        'test_positives': test_positives,\n",
    "        'test_prevalence': test_prevalence\n",
    "    }\n",
    "\n",
    "# Analyze all datasets\n",
    "results = []\n",
    "for target in ['Htndx', 'ResHtndx', 'HtnHypoKdx', 'HtnHeuri', 'ResHtnHeuri', 'HtnHypoKHeuri']:\n",
    "    for fold in ['A', 'B', 'C', 'D', 'E']:\n",
    "        results.append(analyze_dataset(target, fold))\n",
    "\n",
    "# Convert results to DataFrame for better visualization\n",
    "results_df = pd.DataFrame(results)\n",
    "\n",
    "# Display results\n",
    "print(results_df.to_string(index=False))"
   ]
  },
  {
   "cell_type": "code",
   "execution_count": null,
   "metadata": {},
   "outputs": [],
   "source": [
    "results_df.groupby('target').median(numeric_only=True)"
   ]
  },
  {
   "cell_type": "code",
   "execution_count": null,
   "metadata": {},
   "outputs": [],
   "source": [
    "print(results_df.groupby('target').median(numeric_only=True).reset_index().to_latex(\n",
    "    index=False,\n",
    "    float_format=lambda x: '%.2f' % x, \n",
    "    escape=True\n",
    "))"
   ]
  },
  {
   "cell_type": "code",
   "execution_count": null,
   "metadata": {},
   "outputs": [],
   "source": [
    "# Statistics of the test fold\n",
    "results_101 = []\n",
    "for target in ['Htndx', 'ResHtndx', 'HtnHypoKdx', 'HtnHeuri', 'ResHtnHeuri', 'HtnHypoKHeuri']:\n",
    "    for fold in ['A']:\n",
    "        results_101.append(analyze_dataset(target, fold, 101))\n",
    "\n",
    "results_101_df = pd.DataFrame(results_101)\n",
    "results_101_df.groupby('target').median(numeric_only=True)"
   ]
  }
 ],
 "metadata": {
  "kernelspec": {
   "display_name": "Python 3 (ipykernel)",
   "language": "python",
   "name": "python3"
  },
  "language_info": {
   "codemirror_mode": {
    "name": "ipython",
    "version": 3
   },
   "file_extension": ".py",
   "mimetype": "text/x-python",
   "name": "python",
   "nbconvert_exporter": "python",
   "pygments_lexer": "ipython3",
   "version": "3.12.8"
  }
 },
 "nbformat": 4,
 "nbformat_minor": 4
}
