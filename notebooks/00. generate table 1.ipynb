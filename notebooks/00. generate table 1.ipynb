{
 "cells": [
  {
   "cell_type": "markdown",
   "metadata": {},
   "source": [
    "## Exploratory analysis"
   ]
  },
  {
   "cell_type": "code",
   "execution_count": null,
   "metadata": {},
   "outputs": [],
   "source": [
    "import pandas as pd\n",
    "\n",
    "targets = {\n",
    "        'htn_dx_ia':'Htndx',\n",
    "        'res_htn_dx_ia':'ResHtndx', \n",
    "        'htn_hypok_dx_ia':'HtnHypoKdx', \n",
    "        'HTN_heuristic':'HtnHeuri', \n",
    "        'res_HTN_heuristic':'ResHtnHeuri',\n",
    "        'hypoK_heuristic_v4':'HtnHypoKHeuri'\n",
    "        }\n",
    "\n",
    "targets_inv = { v:k for k,v in targets.items() }\n",
    "\n",
    "target='ResHtndx'\n",
    "fold = 'A'\n",
    "df_tbl = None\n",
    "# for t1,t2 in targets.items():\n",
    "df_tbl = pd.read_csv(f'../data/Dataset101/{target}/{target}{fold}Train.csv')\n",
    "    # if df_tbl is not None:\n",
    "    #     df_tbl = df_tbl.merge(df[list(targets.keys())+['UNI_ID']], on='UNI_ID')\n",
    "    # else:\n",
    "    #     df_tbl = df\n",
    "df_tbl\n"
   ]
  },
  {
   "cell_type": "code",
   "execution_count": null,
   "metadata": {},
   "outputs": [],
   "source": [
    "df_tbl.columns"
   ]
  },
  {
   "cell_type": "code",
   "execution_count": null,
   "metadata": {},
   "outputs": [],
   "source": [
    "import numpy as np\n",
    "# df_tbl['Race'] = 'BLACK' if df_tbl['BLACK'] else 'WHITE' if df_tbl['WHITE'] else 'OTHER' if df_tbl['OTHER'] else 'ERROR' \n",
    "df_tbl['Race'] = df_tbl[['BLACK','OTHER','WHITE']].apply(\n",
    "    lambda x: 'BLACK' if x['BLACK'] else 'WHITE' if x['WHITE'] else 'OTHER' if x['OTHER'] else 'ERROR',\n",
    "    axis=1\n",
    ")\n",
    "df_tbl['Sex'] = ['M' if v else 'F' for v in df_tbl['Male'].values]\n",
    "df_tbl['Race'].value_counts()\n",
    "df_tbl = df_tbl.rename(columns={\n",
    "    'age':'Age',\n",
    "    'htn_hypok_dx_ia':'HTN HypoK Dx',\n",
    "    'htn_dx_ia':'HTN Dx',\n",
    "    'res_htn_dx_ia':'aTRH Dx',\n",
    "})\n",
    "for p in [\n",
    "    'HTN Dx',\n",
    "    'HTN HypoK Dx',\n",
    "    'aTRH Dx'\n",
    "]:\n",
    "    df_tbl[p] = df_tbl[p].astype(bool)"
   ]
  },
  {
   "cell_type": "code",
   "execution_count": null,
   "metadata": {},
   "outputs": [],
   "source": [
    "from tableone import TableOne\n",
    "import numpy as np\n",
    "# df_tbl['Apgar 5 < 5'] = df_tbl['Apgar 5'].apply(lambda x: 'Unknown' if np.isnan(x) else str(x < 5.0 ))\n",
    "columns = [\n",
    "   'Age',\n",
    "    'Race',\n",
    "    'Sex',\n",
    "    'HTN Dx',\n",
    "    'HTN HypoK Dx',\n",
    "    # 'aTRH Dx'\n",
    "] \n",
    "categorical = [\n",
    "    'Race',\n",
    "    'Sex',\n",
    "    'HTN Dx',\n",
    "    'HTN HypoK Dx',\n",
    "    # 'aTRH Dx'\n",
    "]\n",
    "nonnormal =[\n",
    "]\n",
    "groupby= 'aTRH Dx'\n",
    "\n",
    "\n",
    "\n",
    "mytable = TableOne(\n",
    "    data=df_tbl, \n",
    "    columns=columns, \n",
    "    categorical=categorical, \n",
    "    groupby=groupby, \n",
    "    nonnormal=nonnormal, \n",
    "    missing=False, \n",
    "    # pval=True,\n",
    "    # pval_adjust='bonferroni',\n",
    "    # row_percent=True\n",
    ")\n",
    "\n",
    "# print(mytable.tabulate(tablefmt=\"github\"))\n",
    "display(mytable)\n",
    "mytable.to_latex('../paper/floats/table-one.tex')"
   ]
  }
 ],
 "metadata": {
  "kernelspec": {
   "display_name": "Python 3 (ipykernel)",
   "language": "python",
   "name": "python3"
  },
  "language_info": {
   "codemirror_mode": {
    "name": "ipython",
    "version": 3
   },
   "file_extension": ".py",
   "mimetype": "text/x-python",
   "name": "python",
   "nbconvert_exporter": "python",
   "pygments_lexer": "ipython3",
   "version": "3.12.8"
  }
 },
 "nbformat": 4,
 "nbformat_minor": 4
}
